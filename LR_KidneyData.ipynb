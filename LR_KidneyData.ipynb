{
  "cells": [
    {
      "cell_type": "markdown",
      "metadata": {
        "id": "view-in-github",
        "colab_type": "text"
      },
      "source": [
        "<a href=\"https://colab.research.google.com/github/primods/LR_HEMO/blob/main/LR_KidneyData.ipynb\" target=\"_parent\"><img src=\"https://colab.research.google.com/assets/colab-badge.svg\" alt=\"Open In Colab\"/></a>"
      ]
    },
    {
      "cell_type": "code",
      "execution_count": 1,
      "metadata": {
        "id": "2UYQP2f-D6DF"
      },
      "outputs": [],
      "source": [
        "#Import the packages for Exploratory Data Analysis and Model Creation\n",
        "import pandas as pd\n",
        "import numpy as np\n",
        "import matplotlib.pyplot as plt\n",
        "import seaborn as sns\n",
        "\n",
        "from sklearn.impute import SimpleImputer\n",
        "from sklearn.preprocessing import StandardScaler, PowerTransformer, OneHotEncoder, PolynomialFeatures\n",
        "from sklearn.pipeline import Pipeline\n",
        "from sklearn.compose import ColumnTransformer\n",
        "from sklearn.model_selection import train_test_split, cross_val_score, GridSearchCV\n",
        "from sklearn.metrics import make_scorer, mean_squared_error\n",
        "\n",
        "from sklearn.linear_model import Lasso, LinearRegression, ElasticNetCV, RidgeCV, LassoCV\n",
        "\n",
        "from scipy.stats import lognorm\n",
        "\n",
        "import pickle\n",
        "\n",
        "sns.set(rc={'figure.figsize':(8,5)})\n",
        "sns.set_theme(\"paper\")"
      ]
    },
    {
      "cell_type": "code",
      "execution_count": 2,
      "metadata": {
        "colab": {
          "base_uri": "https://localhost:8080/"
        },
        "id": "mu27PpHT-Hun",
        "outputId": "4297dc0e-42b1-47bb-e88e-956fb6324d46"
      },
      "outputs": [
        {
          "output_type": "stream",
          "name": "stdout",
          "text": [
            "Looking in indexes: https://pypi.org/simple, https://us-python.pkg.dev/colab-wheels/public/simple/\n",
            "Requirement already satisfied: faker in /usr/local/lib/python3.7/dist-packages (13.15.0)\n",
            "Requirement already satisfied: typing-extensions>=3.10.0.2 in /usr/local/lib/python3.7/dist-packages (from faker) (4.1.1)\n",
            "Requirement already satisfied: python-dateutil>=2.4 in /usr/local/lib/python3.7/dist-packages (from faker) (2.8.2)\n",
            "Requirement already satisfied: six>=1.5 in /usr/local/lib/python3.7/dist-packages (from python-dateutil>=2.4->faker) (1.15.0)\n"
          ]
        }
      ],
      "source": [
        "#Installing random generator of data that we use for random colors and change the setting for python\n",
        "#warnings for clean outputs\n",
        "!pip install faker\n",
        "from faker import Factory\n",
        "import warnings\n",
        "warnings.filterwarnings(\"ignore\")"
      ]
    },
    {
      "cell_type": "code",
      "execution_count": 3,
      "metadata": {
        "colab": {
          "base_uri": "https://localhost:8080/"
        },
        "id": "9PuBfwYEMLg9",
        "outputId": "919252db-9b4d-4d3c-f014-15f962a6b091"
      },
      "outputs": [
        {
          "output_type": "execute_result",
          "data": {
            "text/plain": [
              "Index(['id', 'age', 'bp', 'sg', 'al', 'su', 'rbc', 'pc', 'pcc', 'ba', 'bgr',\n",
              "       'bu', 'sc', 'sod', 'pot', 'hemo', 'pcv', 'wc', 'rc', 'htn', 'dm', 'cad',\n",
              "       'appet', 'pe', 'ane', 'classification'],\n",
              "      dtype='object')"
            ]
          },
          "metadata": {},
          "execution_count": 3
        }
      ],
      "source": [
        "#Create the Dataframe from CSV file and check the columns\n",
        "df = pd.read_csv(\"kidney_disease.csv\").dropna(thresh=20)\n",
        "df.columns"
      ]
    },
    {
      "cell_type": "code",
      "execution_count": 4,
      "metadata": {
        "id": "5dthfWZNgdw8"
      },
      "outputs": [],
      "source": [
        "#Select the relevant blood laboratory values (excluding other like bp-blood pressure-)\n",
        "#and separate categorical from numerical values for later use\n",
        "\n",
        "df = df[[\"wc\",\"pcv\",\"rc\",\"ane\",\"classification\",\"hemo\"]]\n",
        "df = df.dropna(subset=[\"hemo\",\"ane\",\"classification\"])\n",
        "col_names = list(df.columns)\n",
        "num_columns = list(df[[\"wc\",\"pcv\",\"rc\"]].columns)\n",
        "cat_columns = list(df[[\"ane\",\"classification\"]].columns)"
      ]
    },
    {
      "cell_type": "code",
      "execution_count": 5,
      "metadata": {
        "id": "jIdZmu_BNTrq"
      },
      "outputs": [],
      "source": [
        "#Crete X and y dataframe and splitting in train and test sets\n",
        "X = df[num_columns+cat_columns]\n",
        "y = df[\"hemo\"]\n",
        "df_train, df_test, y_train, y_test = train_test_split(X, y, test_size=0.40, random_state=28)"
      ]
    },
    {
      "cell_type": "code",
      "execution_count": 6,
      "metadata": {
        "colab": {
          "base_uri": "https://localhost:8080/"
        },
        "id": "FCpYlkc1wjRz",
        "outputId": "2821cd86-2bc7-495c-d0dd-c9d59730b1e0"
      },
      "outputs": [
        {
          "output_type": "execute_result",
          "data": {
            "text/plain": [
              "wc                23\n",
              "pcv                5\n",
              "rc                44\n",
              "ane                0\n",
              "classification     0\n",
              "dtype: int64"
            ]
          },
          "metadata": {},
          "execution_count": 6
        }
      ],
      "source": [
        "#checking for NA values\n",
        "df_train.isna().sum()"
      ]
    },
    {
      "cell_type": "code",
      "execution_count": 7,
      "metadata": {
        "colab": {
          "base_uri": "https://localhost:8080/"
        },
        "id": "7S-wpLivORLC",
        "outputId": "a172977b-16b9-43ca-f6c2-b45fcf33f43c"
      },
      "outputs": [
        {
          "output_type": "stream",
          "name": "stdout",
          "text": [
            "wc\n",
            "['5300' '7000' '9100' '12800' nan '10400' '4200' '8400' '5700' '9300'\n",
            " '6700' '5800' '8000' '6200' '6900' '8100' '10500' '10300' '6300' '9800'\n",
            " '8200' '11900' '9500' '9200' '11000' '10700' '16700' '7300' '6000' '9000'\n",
            " '12100' '7900' '8600' '12000' '6600' '6500' '4300' '9400' '3800' '10200'\n",
            " '11400' '7500' '8300' '12700' '4700' '4900' '5500' '2200' '12400' '4500'\n",
            " '7200' '7800' '2600' '9600' '8800' '6400' '7400' '15700' '18900' '26400'\n",
            " '5900' '14900' '14600' '4100' '5000' '\\t?' '5600' '7700' '6800' '12200'\n",
            " '16300' '5200' '15200' '5400' '7100' '8500' '10900' '11200' '12300']\n",
            "_______________\n",
            "pcv\n",
            "['41' '52' '30' '46' '34' '33' '48' '43' '24' '29' '38' '26' '50' '28'\n",
            " '40' '42' '32' '27' '44' '39' '35' '14' '36' '47' '16' '37' '17' '22' nan\n",
            " '31' '49' '53' '\\t43' '45' '54' '15' '20' '25' '51' '19' '23' '9']\n",
            "_______________\n",
            "rc\n",
            "['5.9' nan '3.2' '5.8' '4.9' '4.5' '3.3' '3.7' '5.4' '6.1' '5.1' '6.2'\n",
            " '3.4' '4' '5.0' '4.8' '3.9' '2.6' '5.3' '4.6' '\\t?' '3.1' '5.5' '6.4'\n",
            " '2.5' '2.1' '3.8' '4.3' '5.2' '4.2' '3.6' '4.7' '2.8' '4.0' '6.3' '3.5'\n",
            " '6.0' '4.4' '4.1' '5.7' '5.6' '6.5' '2.9' '2.7' '3.0']\n",
            "_______________\n",
            "ane\n",
            "['no' 'yes']\n",
            "_______________\n",
            "classification\n",
            "['notckd' 'ckd' 'ckd\\t']\n",
            "_______________\n"
          ]
        }
      ],
      "source": [
        "#Cheking for inconsistencies in the train data\n",
        "for i in df_train.columns:\n",
        "  print(i)\n",
        "  print(df_train[i].unique())\n",
        "  print(\"_______________\")"
      ]
    },
    {
      "cell_type": "code",
      "execution_count": 8,
      "metadata": {
        "colab": {
          "base_uri": "https://localhost:8080/"
        },
        "id": "JQRfddEeOXkP",
        "outputId": "2f156b63-d7e2-407d-e4d7-fd67a5949a84"
      },
      "outputs": [
        {
          "output_type": "stream",
          "name": "stdout",
          "text": [
            "wc\n",
            "['5300' '7000' '9100' '12800' nan '10400' '4200' '8400' '5700' '9300'\n",
            " '6700' '5800' '8000' '6200' '6900' '8100' '10500' '10300' '6300' '9800'\n",
            " '8200' '11900' '9500' '9200' '11000' '10700' '16700' '7300' '6000' '9000'\n",
            " '12100' '7900' '8600' '12000' '6600' '6500' '4300' '9400' '3800' '10200'\n",
            " '11400' '7500' '8300' '12700' '4700' '4900' '5500' '2200' '12400' '4500'\n",
            " '7200' '7800' '2600' '9600' '8800' '6400' '7400' '15700' '18900' '26400'\n",
            " '5900' '14900' '14600' '4100' '5000' '5600' '7700' '6800' '12200' '16300'\n",
            " '5200' '15200' '5400' '7100' '8500' '10900' '11200' '12300']\n",
            "_______________\n",
            "pcv\n",
            "['41' '52' '30' '46' '34' '33' '48' '43' '24' '29' '38' '26' '50' '28'\n",
            " '40' '42' '32' '27' '44' '39' '35' '14' '36' '47' '16' '37' '17' '22' nan\n",
            " '31' '49' '53' 43 '45' '54' '15' '20' '25' '51' '19' '23' '9']\n",
            "_______________\n",
            "rc\n",
            "['5.9' nan '3.2' '5.8' '4.9' '4.5' '3.3' '3.7' '5.4' '6.1' '5.1' '6.2'\n",
            " '3.4' '4' '5.0' '4.8' '3.9' '2.6' '5.3' '4.6' '3.1' '5.5' '6.4' '2.5'\n",
            " '2.1' '3.8' '4.3' '5.2' '4.2' '3.6' '4.7' '2.8' '4.0' '6.3' '3.5' '6.0'\n",
            " '4.4' '4.1' '5.7' '5.6' '6.5' '2.9' '2.7' '3.0']\n",
            "_______________\n",
            "ane\n",
            "['no' 'yes']\n",
            "_______________\n",
            "classification\n",
            "['notckd' 'ckd']\n",
            "_______________\n"
          ]
        }
      ],
      "source": [
        "#Manually imputing values\n",
        "df_train[\"classification\"].replace(\"ckd\\t\",\"ckd\", inplace=True)\n",
        "df_train[\"wc\"].replace([\"\\t?\"],np.nan, inplace=True)\n",
        "df_train[\"pcv\"].replace([\"\\t43\"],43, inplace=True)\n",
        "df_train[\"rc\"].replace([\"\\t?\"],np.nan, inplace=True)\n",
        "\n",
        "#Sanity check\n",
        "for i in df_train.columns:\n",
        "  print(i)\n",
        "  print(df_train[i].unique())\n",
        "  print(\"_______________\")"
      ]
    },
    {
      "cell_type": "code",
      "execution_count": 9,
      "metadata": {
        "colab": {
          "base_uri": "https://localhost:8080/"
        },
        "id": "hMe5rb-PACfL",
        "outputId": "e779b372-5197-4f8a-b9ff-298349635f79"
      },
      "outputs": [
        {
          "output_type": "execute_result",
          "data": {
            "text/plain": [
              "['ane_no', 'ane_yes', 'classification_ckd', 'classification_notckd']"
            ]
          },
          "metadata": {},
          "execution_count": 9
        }
      ],
      "source": [
        "#One-hot encoding the categorical values\n",
        "encoder = OneHotEncoder(sparse=False)\n",
        "\n",
        "df_train_ohe = encoder.fit_transform(df_train[[\"ane\",\"classification\"]])\n",
        "\n",
        "#Check the generated columns by the encoder\n",
        "list(encoder.get_feature_names_out())"
      ]
    },
    {
      "cell_type": "code",
      "execution_count": 10,
      "metadata": {
        "colab": {
          "base_uri": "https://localhost:8080/"
        },
        "id": "vmQKngKCq4mu",
        "outputId": "619979ab-179a-4821-802d-13dfba4d935b"
      },
      "outputs": [
        {
          "output_type": "stream",
          "name": "stdout",
          "text": [
            "<class 'pandas.core.frame.DataFrame'>\n",
            "Int64Index: 193 entries, 285 to 333\n",
            "Data columns (total 3 columns):\n",
            " #   Column  Non-Null Count  Dtype \n",
            "---  ------  --------------  ----- \n",
            " 0   wc      169 non-null    object\n",
            " 1   pcv     188 non-null    object\n",
            " 2   rc      148 non-null    object\n",
            "dtypes: object(3)\n",
            "memory usage: 6.0+ KB\n"
          ]
        }
      ],
      "source": [
        "#Check the data types in the dataframe\n",
        "df_train_num = df_train[[\"wc\",\"pcv\",\"rc\"]]\n",
        "df_train_num.info()"
      ]
    },
    {
      "cell_type": "code",
      "execution_count": 11,
      "metadata": {
        "colab": {
          "base_uri": "https://localhost:8080/",
          "height": 300
        },
        "id": "GC6n7nK2w_dQ",
        "outputId": "2faac0d4-40f4-46be-90ce-dfe40661302d"
      },
      "outputs": [
        {
          "output_type": "execute_result",
          "data": {
            "text/plain": [
              "                 wc         pcv          rc\n",
              "count    169.000000  188.000000  148.000000\n",
              "mean    8392.307692   38.489362    4.716216\n",
              "std     3101.382180    9.078086    1.021407\n",
              "min     2200.000000    9.000000    2.100000\n",
              "25%     6400.000000   33.000000    3.900000\n",
              "50%     8000.000000   40.000000    4.800000\n",
              "75%     9800.000000   45.000000    5.500000\n",
              "max    26400.000000   54.000000    6.500000"
            ],
            "text/html": [
              "\n",
              "  <div id=\"df-06911e4c-0a5b-4619-9839-d4a3925df153\">\n",
              "    <div class=\"colab-df-container\">\n",
              "      <div>\n",
              "<style scoped>\n",
              "    .dataframe tbody tr th:only-of-type {\n",
              "        vertical-align: middle;\n",
              "    }\n",
              "\n",
              "    .dataframe tbody tr th {\n",
              "        vertical-align: top;\n",
              "    }\n",
              "\n",
              "    .dataframe thead th {\n",
              "        text-align: right;\n",
              "    }\n",
              "</style>\n",
              "<table border=\"1\" class=\"dataframe\">\n",
              "  <thead>\n",
              "    <tr style=\"text-align: right;\">\n",
              "      <th></th>\n",
              "      <th>wc</th>\n",
              "      <th>pcv</th>\n",
              "      <th>rc</th>\n",
              "    </tr>\n",
              "  </thead>\n",
              "  <tbody>\n",
              "    <tr>\n",
              "      <th>count</th>\n",
              "      <td>169.000000</td>\n",
              "      <td>188.000000</td>\n",
              "      <td>148.000000</td>\n",
              "    </tr>\n",
              "    <tr>\n",
              "      <th>mean</th>\n",
              "      <td>8392.307692</td>\n",
              "      <td>38.489362</td>\n",
              "      <td>4.716216</td>\n",
              "    </tr>\n",
              "    <tr>\n",
              "      <th>std</th>\n",
              "      <td>3101.382180</td>\n",
              "      <td>9.078086</td>\n",
              "      <td>1.021407</td>\n",
              "    </tr>\n",
              "    <tr>\n",
              "      <th>min</th>\n",
              "      <td>2200.000000</td>\n",
              "      <td>9.000000</td>\n",
              "      <td>2.100000</td>\n",
              "    </tr>\n",
              "    <tr>\n",
              "      <th>25%</th>\n",
              "      <td>6400.000000</td>\n",
              "      <td>33.000000</td>\n",
              "      <td>3.900000</td>\n",
              "    </tr>\n",
              "    <tr>\n",
              "      <th>50%</th>\n",
              "      <td>8000.000000</td>\n",
              "      <td>40.000000</td>\n",
              "      <td>4.800000</td>\n",
              "    </tr>\n",
              "    <tr>\n",
              "      <th>75%</th>\n",
              "      <td>9800.000000</td>\n",
              "      <td>45.000000</td>\n",
              "      <td>5.500000</td>\n",
              "    </tr>\n",
              "    <tr>\n",
              "      <th>max</th>\n",
              "      <td>26400.000000</td>\n",
              "      <td>54.000000</td>\n",
              "      <td>6.500000</td>\n",
              "    </tr>\n",
              "  </tbody>\n",
              "</table>\n",
              "</div>\n",
              "      <button class=\"colab-df-convert\" onclick=\"convertToInteractive('df-06911e4c-0a5b-4619-9839-d4a3925df153')\"\n",
              "              title=\"Convert this dataframe to an interactive table.\"\n",
              "              style=\"display:none;\">\n",
              "        \n",
              "  <svg xmlns=\"http://www.w3.org/2000/svg\" height=\"24px\"viewBox=\"0 0 24 24\"\n",
              "       width=\"24px\">\n",
              "    <path d=\"M0 0h24v24H0V0z\" fill=\"none\"/>\n",
              "    <path d=\"M18.56 5.44l.94 2.06.94-2.06 2.06-.94-2.06-.94-.94-2.06-.94 2.06-2.06.94zm-11 1L8.5 8.5l.94-2.06 2.06-.94-2.06-.94L8.5 2.5l-.94 2.06-2.06.94zm10 10l.94 2.06.94-2.06 2.06-.94-2.06-.94-.94-2.06-.94 2.06-2.06.94z\"/><path d=\"M17.41 7.96l-1.37-1.37c-.4-.4-.92-.59-1.43-.59-.52 0-1.04.2-1.43.59L10.3 9.45l-7.72 7.72c-.78.78-.78 2.05 0 2.83L4 21.41c.39.39.9.59 1.41.59.51 0 1.02-.2 1.41-.59l7.78-7.78 2.81-2.81c.8-.78.8-2.07 0-2.86zM5.41 20L4 18.59l7.72-7.72 1.47 1.35L5.41 20z\"/>\n",
              "  </svg>\n",
              "      </button>\n",
              "      \n",
              "  <style>\n",
              "    .colab-df-container {\n",
              "      display:flex;\n",
              "      flex-wrap:wrap;\n",
              "      gap: 12px;\n",
              "    }\n",
              "\n",
              "    .colab-df-convert {\n",
              "      background-color: #E8F0FE;\n",
              "      border: none;\n",
              "      border-radius: 50%;\n",
              "      cursor: pointer;\n",
              "      display: none;\n",
              "      fill: #1967D2;\n",
              "      height: 32px;\n",
              "      padding: 0 0 0 0;\n",
              "      width: 32px;\n",
              "    }\n",
              "\n",
              "    .colab-df-convert:hover {\n",
              "      background-color: #E2EBFA;\n",
              "      box-shadow: 0px 1px 2px rgba(60, 64, 67, 0.3), 0px 1px 3px 1px rgba(60, 64, 67, 0.15);\n",
              "      fill: #174EA6;\n",
              "    }\n",
              "\n",
              "    [theme=dark] .colab-df-convert {\n",
              "      background-color: #3B4455;\n",
              "      fill: #D2E3FC;\n",
              "    }\n",
              "\n",
              "    [theme=dark] .colab-df-convert:hover {\n",
              "      background-color: #434B5C;\n",
              "      box-shadow: 0px 1px 3px 1px rgba(0, 0, 0, 0.15);\n",
              "      filter: drop-shadow(0px 1px 2px rgba(0, 0, 0, 0.3));\n",
              "      fill: #FFFFFF;\n",
              "    }\n",
              "  </style>\n",
              "\n",
              "      <script>\n",
              "        const buttonEl =\n",
              "          document.querySelector('#df-06911e4c-0a5b-4619-9839-d4a3925df153 button.colab-df-convert');\n",
              "        buttonEl.style.display =\n",
              "          google.colab.kernel.accessAllowed ? 'block' : 'none';\n",
              "\n",
              "        async function convertToInteractive(key) {\n",
              "          const element = document.querySelector('#df-06911e4c-0a5b-4619-9839-d4a3925df153');\n",
              "          const dataTable =\n",
              "            await google.colab.kernel.invokeFunction('convertToInteractive',\n",
              "                                                     [key], {});\n",
              "          if (!dataTable) return;\n",
              "\n",
              "          const docLinkHtml = 'Like what you see? Visit the ' +\n",
              "            '<a target=\"_blank\" href=https://colab.research.google.com/notebooks/data_table.ipynb>data table notebook</a>'\n",
              "            + ' to learn more about interactive tables.';\n",
              "          element.innerHTML = '';\n",
              "          dataTable['output_type'] = 'display_data';\n",
              "          await google.colab.output.renderOutput(dataTable, element);\n",
              "          const docLink = document.createElement('div');\n",
              "          docLink.innerHTML = docLinkHtml;\n",
              "          element.appendChild(docLink);\n",
              "        }\n",
              "      </script>\n",
              "    </div>\n",
              "  </div>\n",
              "  "
            ]
          },
          "metadata": {},
          "execution_count": 11
        }
      ],
      "source": [
        "#Change the data type to generate a basic summary statistics\n",
        "df_train_num[\"wc\"] = df_train_num[\"wc\"].astype(float, errors = 'raise')\n",
        "df_train_num[\"rc\"] = df_train_num[\"rc\"].astype(float, errors = 'raise')\n",
        "df_train_num[\"pcv\"] = df_train_num[\"pcv\"].astype(float, errors = 'raise')\n",
        "\n",
        "df_train_num.describe()"
      ]
    },
    {
      "cell_type": "code",
      "execution_count": 12,
      "metadata": {
        "colab": {
          "base_uri": "https://localhost:8080/",
          "height": 284
        },
        "id": "b6U-SI-Cyf7i",
        "outputId": "93aff4ed-2879-4e06-cb6f-8024c8dbcb33"
      },
      "outputs": [
        {
          "output_type": "execute_result",
          "data": {
            "text/plain": [
              "<matplotlib.axes._subplots.AxesSubplot at 0x7fa626e770d0>"
            ]
          },
          "metadata": {},
          "execution_count": 12
        },
        {
          "output_type": "display_data",
          "data": {
            "text/plain": [
              "<Figure size 432x288 with 1 Axes>"
            ],
            "image/png": "[encoded data removed]"
          },
          "metadata": {
            "needs_background": "light"
          }
        }
      ],
      "source": [
        "#Boxplotting the numerical data visualization of the statistics\n",
        "df_train_num.boxplot()"
      ]
    },
    {
      "cell_type": "code",
      "execution_count": 13,
      "metadata": {
        "colab": {
          "base_uri": "https://localhost:8080/",
          "height": 298
        },
        "id": "HMVl6r3hkZCU",
        "outputId": "e2c59581-6aac-45e4-f67b-a944752c778b"
      },
      "outputs": [
        {
          "output_type": "display_data",
          "data": {
            "text/plain": [
              "<Figure size 432x288 with 0 Axes>"
            ]
          },
          "metadata": {}
        },
        {
          "output_type": "display_data",
          "data": {
            "text/plain": [
              "<Figure size 432x288 with 3 Axes>"
            ],
            "image/png": "[encoded data removed]"
          },
          "metadata": {
            "needs_background": "light"
          }
        }
      ],
      "source": [
        "#Check distributions\n",
        "fake = Factory.create()\n",
        "plt.figure()\n",
        "ncols = len(df_train_num.columns)\n",
        "fig, axs = plt.subplots(1, ncols)\n",
        "sns.set(rc={'figure.figsize':(12,4)})\n",
        "\n",
        "\n",
        "for i,j in zip(df_train_num.columns,range(ncols)):\n",
        "  sns.histplot(df_train_num[i], kde=True, ax=axs[j],color=fake.hex_color())"
      ]
    },
    {
      "cell_type": "code",
      "execution_count": 14,
      "metadata": {
        "id": "hOOWGZepuPnW"
      },
      "outputs": [],
      "source": [
        "#Creating imputer for the NA values\n",
        "im = SimpleImputer(missing_values=np.nan,strategy=\"mean\")\n",
        "#Saving column name for data visualization\n",
        "columns_names = df_train_num.columns\n",
        "#Imputed data\n",
        "df_train_num = im.fit_transform(df_train_num)\n",
        "#Scale the data\n",
        "norm = StandardScaler()\n",
        "df_train_num = pd.DataFrame(norm.fit_transform(df_train_num))\n",
        "df_train_num.columns = columns_names"
      ]
    },
    {
      "cell_type": "code",
      "execution_count": 15,
      "metadata": {
        "colab": {
          "base_uri": "https://localhost:8080/",
          "height": 300
        },
        "id": "eal7fiqj0TYG",
        "outputId": "57ba46a6-ae95-4ab6-8f61-f6b0d0a3d38b"
      },
      "outputs": [
        {
          "output_type": "execute_result",
          "data": {
            "text/plain": [
              "                 wc           pcv            rc\n",
              "count  1.930000e+02  1.930000e+02  1.930000e+02\n",
              "mean   2.531078e-16 -2.300980e-17  4.049725e-16\n",
              "std    1.002601e+00  1.002601e+00  1.002601e+00\n",
              "min   -2.140037e+00 -3.300114e+00 -2.934909e+00\n",
              "25%   -5.848548e-01 -6.143069e-01 -4.669174e-01\n",
              "50%    0.000000e+00  1.690534e-01  0.000000e+00\n",
              "75%    4.173736e-01  7.285966e-01  5.427157e-01\n",
              "max    6.223387e+00  1.735774e+00  2.001075e+00"
            ],
            "text/html": [
              "\n",
              "  <div id=\"df-0eea6f17-407a-48b8-b6f6-bd3d5c4e1a8e\">\n",
              "    <div class=\"colab-df-container\">\n",
              "      <div>\n",
              "<style scoped>\n",
              "    .dataframe tbody tr th:only-of-type {\n",
              "        vertical-align: middle;\n",
              "    }\n",
              "\n",
              "    .dataframe tbody tr th {\n",
              "        vertical-align: top;\n",
              "    }\n",
              "\n",
              "    .dataframe thead th {\n",
              "        text-align: right;\n",
              "    }\n",
              "</style>\n",
              "<table border=\"1\" class=\"dataframe\">\n",
              "  <thead>\n",
              "    <tr style=\"text-align: right;\">\n",
              "      <th></th>\n",
              "      <th>wc</th>\n",
              "      <th>pcv</th>\n",
              "      <th>rc</th>\n",
              "    </tr>\n",
              "  </thead>\n",
              "  <tbody>\n",
              "    <tr>\n",
              "      <th>count</th>\n",
              "      <td>1.930000e+02</td>\n",
              "      <td>1.930000e+02</td>\n",
              "      <td>1.930000e+02</td>\n",
              "    </tr>\n",
              "    <tr>\n",
              "      <th>mean</th>\n",
              "      <td>2.531078e-16</td>\n",
              "      <td>-2.300980e-17</td>\n",
              "      <td>4.049725e-16</td>\n",
              "    </tr>\n",
              "    <tr>\n",
              "      <th>std</th>\n",
              "      <td>1.002601e+00</td>\n",
              "      <td>1.002601e+00</td>\n",
              "      <td>1.002601e+00</td>\n",
              "    </tr>\n",
              "    <tr>\n",
              "      <th>min</th>\n",
              "      <td>-2.140037e+00</td>\n",
              "      <td>-3.300114e+00</td>\n",
              "      <td>-2.934909e+00</td>\n",
              "    </tr>\n",
              "    <tr>\n",
              "      <th>25%</th>\n",
              "      <td>-5.848548e-01</td>\n",
              "      <td>-6.143069e-01</td>\n",
              "      <td>-4.669174e-01</td>\n",
              "    </tr>\n",
              "    <tr>\n",
              "      <th>50%</th>\n",
              "      <td>0.000000e+00</td>\n",
              "      <td>1.690534e-01</td>\n",
              "      <td>0.000000e+00</td>\n",
              "    </tr>\n",
              "    <tr>\n",
              "      <th>75%</th>\n",
              "      <td>4.173736e-01</td>\n",
              "      <td>7.285966e-01</td>\n",
              "      <td>5.427157e-01</td>\n",
              "    </tr>\n",
              "    <tr>\n",
              "      <th>max</th>\n",
              "      <td>6.223387e+00</td>\n",
              "      <td>1.735774e+00</td>\n",
              "      <td>2.001075e+00</td>\n",
              "    </tr>\n",
              "  </tbody>\n",
              "</table>\n",
              "</div>\n",
              "      <button class=\"colab-df-convert\" onclick=\"convertToInteractive('df-0eea6f17-407a-48b8-b6f6-bd3d5c4e1a8e')\"\n",
              "              title=\"Convert this dataframe to an interactive table.\"\n",
              "              style=\"display:none;\">\n",
              "        \n",
              "  <svg xmlns=\"http://www.w3.org/2000/svg\" height=\"24px\"viewBox=\"0 0 24 24\"\n",
              "       width=\"24px\">\n",
              "    <path d=\"M0 0h24v24H0V0z\" fill=\"none\"/>\n",
              "    <path d=\"M18.56 5.44l.94 2.06.94-2.06 2.06-.94-2.06-.94-.94-2.06-.94 2.06-2.06.94zm-11 1L8.5 8.5l.94-2.06 2.06-.94-2.06-.94L8.5 2.5l-.94 2.06-2.06.94zm10 10l.94 2.06.94-2.06 2.06-.94-2.06-.94-.94-2.06-.94 2.06-2.06.94z\"/><path d=\"M17.41 7.96l-1.37-1.37c-.4-.4-.92-.59-1.43-.59-.52 0-1.04.2-1.43.59L10.3 9.45l-7.72 7.72c-.78.78-.78 2.05 0 2.83L4 21.41c.39.39.9.59 1.41.59.51 0 1.02-.2 1.41-.59l7.78-7.78 2.81-2.81c.8-.78.8-2.07 0-2.86zM5.41 20L4 18.59l7.72-7.72 1.47 1.35L5.41 20z\"/>\n",
              "  </svg>\n",
              "      </button>\n",
              "      \n",
              "  <style>\n",
              "    .colab-df-container {\n",
              "      display:flex;\n",
              "      flex-wrap:wrap;\n",
              "      gap: 12px;\n",
              "    }\n",
              "\n",
              "    .colab-df-convert {\n",
              "      background-color: #E8F0FE;\n",
              "      border: none;\n",
              "      border-radius: 50%;\n",
              "      cursor: pointer;\n",
              "      display: none;\n",
              "      fill: #1967D2;\n",
              "      height: 32px;\n",
              "      padding: 0 0 0 0;\n",
              "      width: 32px;\n",
              "    }\n",
              "\n",
              "    .colab-df-convert:hover {\n",
              "      background-color: #E2EBFA;\n",
              "      box-shadow: 0px 1px 2px rgba(60, 64, 67, 0.3), 0px 1px 3px 1px rgba(60, 64, 67, 0.15);\n",
              "      fill: #174EA6;\n",
              "    }\n",
              "\n",
              "    [theme=dark] .colab-df-convert {\n",
              "      background-color: #3B4455;\n",
              "      fill: #D2E3FC;\n",
              "    }\n",
              "\n",
              "    [theme=dark] .colab-df-convert:hover {\n",
              "      background-color: #434B5C;\n",
              "      box-shadow: 0px 1px 3px 1px rgba(0, 0, 0, 0.15);\n",
              "      filter: drop-shadow(0px 1px 2px rgba(0, 0, 0, 0.3));\n",
              "      fill: #FFFFFF;\n",
              "    }\n",
              "  </style>\n",
              "\n",
              "      <script>\n",
              "        const buttonEl =\n",
              "          document.querySelector('#df-0eea6f17-407a-48b8-b6f6-bd3d5c4e1a8e button.colab-df-convert');\n",
              "        buttonEl.style.display =\n",
              "          google.colab.kernel.accessAllowed ? 'block' : 'none';\n",
              "\n",
              "        async function convertToInteractive(key) {\n",
              "          const element = document.querySelector('#df-0eea6f17-407a-48b8-b6f6-bd3d5c4e1a8e');\n",
              "          const dataTable =\n",
              "            await google.colab.kernel.invokeFunction('convertToInteractive',\n",
              "                                                     [key], {});\n",
              "          if (!dataTable) return;\n",
              "\n",
              "          const docLinkHtml = 'Like what you see? Visit the ' +\n",
              "            '<a target=\"_blank\" href=https://colab.research.google.com/notebooks/data_table.ipynb>data table notebook</a>'\n",
              "            + ' to learn more about interactive tables.';\n",
              "          element.innerHTML = '';\n",
              "          dataTable['output_type'] = 'display_data';\n",
              "          await google.colab.output.renderOutput(dataTable, element);\n",
              "          const docLink = document.createElement('div');\n",
              "          docLink.innerHTML = docLinkHtml;\n",
              "          element.appendChild(docLink);\n",
              "        }\n",
              "      </script>\n",
              "    </div>\n",
              "  </div>\n",
              "  "
            ]
          },
          "metadata": {},
          "execution_count": 15
        }
      ],
      "source": [
        "#Basic statistics of the new data\n",
        "df_train_num.describe()"
      ]
    },
    {
      "cell_type": "code",
      "execution_count": 16,
      "metadata": {
        "colab": {
          "base_uri": "https://localhost:8080/",
          "height": 286
        },
        "id": "sjxkXwt_1zJt",
        "outputId": "c51516bc-de6f-437c-f5e1-58feb7735442"
      },
      "outputs": [
        {
          "output_type": "execute_result",
          "data": {
            "text/plain": [
              "<matplotlib.axes._subplots.AxesSubplot at 0x7fa60f4ac110>"
            ]
          },
          "metadata": {},
          "execution_count": 16
        },
        {
          "output_type": "display_data",
          "data": {
            "text/plain": [
              "<Figure size 864x288 with 1 Axes>"
            ],
            "image/png": "[encoded data removed]"
          },
          "metadata": {}
        }
      ],
      "source": [
        "#Boxplotting of the new data\n",
        "df_train_num.boxplot()"
      ]
    },
    {
      "cell_type": "code",
      "execution_count": 17,
      "metadata": {
        "colab": {
          "base_uri": "https://localhost:8080/",
          "height": 288
        },
        "id": "1thHhbIq2ukD",
        "outputId": "73c89268-2d15-444d-950e-f4eb6e09eb9c"
      },
      "outputs": [
        {
          "output_type": "execute_result",
          "data": {
            "text/plain": [
              "<matplotlib.axes._subplots.AxesSubplot at 0x7fa60f443f10>"
            ]
          },
          "metadata": {},
          "execution_count": 17
        },
        {
          "output_type": "display_data",
          "data": {
            "text/plain": [
              "<Figure size 864x288 with 1 Axes>"
            ],
            "image/png": "[encoded data removed]"
          },
          "metadata": {}
        }
      ],
      "source": [
        "#Transforming the data with Yeo-Johnson to make it more normal and\n",
        "#plot to visualize\n",
        "transformer = PowerTransformer(method=\"yeo-johnson\")\n",
        "df_train_num = pd.DataFrame(transformer.fit_transform(df_train_num))\n",
        "df_train_num.columns = columns_names\n",
        "pd.DataFrame(df_train_num).boxplot()"
      ]
    },
    {
      "cell_type": "code",
      "execution_count": 18,
      "metadata": {
        "colab": {
          "base_uri": "https://localhost:8080/",
          "height": 303
        },
        "id": "mjsiRHPy40qX",
        "outputId": "3d49cd5f-9a21-4d4b-ad53-05c592e4e93e"
      },
      "outputs": [
        {
          "output_type": "display_data",
          "data": {
            "text/plain": [
              "<Figure size 864x288 with 0 Axes>"
            ]
          },
          "metadata": {}
        },
        {
          "output_type": "display_data",
          "data": {
            "text/plain": [
              "<Figure size 864x288 with 3 Axes>"
            ],
            "image/png": "[encoded data removed]"
          },
          "metadata": {}
        }
      ],
      "source": [
        "#Plot the new distributions\n",
        "plt.figure()\n",
        "ncols = len(df_train_num.columns)\n",
        "fig, axs = plt.subplots(1, ncols)\n",
        "sns.set(rc={'figure.figsize':(12,4)})\n",
        "plt.xlim(-4,4)\n",
        "\n",
        "for i,j in zip(df_train_num.columns,range(ncols)):\n",
        "  sns.histplot(df_train_num[i], kde=True, ax=axs[j],color=fake.hex_color())"
      ]
    },
    {
      "cell_type": "code",
      "execution_count": 19,
      "metadata": {
        "id": "dt-6ZcGU_5py"
      },
      "outputs": [],
      "source": [
        "#All previous steps can now be sumarized in a few lines of code\n",
        "#using a pipeline!\n",
        "numeric_transformer = Pipeline([\n",
        "                 (\"imputer\",SimpleImputer(missing_values=np.nan,strategy=\"mean\")),\n",
        "                 (\"scaler\",StandardScaler()),\n",
        "                 (\"transform\",PowerTransformer(method=\"yeo-johnson\"))\n",
        "])"
      ]
    },
    {
      "cell_type": "code",
      "execution_count": 20,
      "metadata": {
        "colab": {
          "base_uri": "https://localhost:8080/",
          "height": 286
        },
        "id": "uOILOTfwDJ3y",
        "outputId": "2017216d-9bbf-44be-f754-cee14d5229cf"
      },
      "outputs": [
        {
          "output_type": "execute_result",
          "data": {
            "text/plain": [
              "<matplotlib.axes._subplots.AxesSubplot at 0x7fa60f207ad0>"
            ]
          },
          "metadata": {},
          "execution_count": 20
        },
        {
          "output_type": "display_data",
          "data": {
            "text/plain": [
              "<Figure size 864x288 with 1 Axes>"
            ],
            "image/png": "[encoded data removed]"
          },
          "metadata": {}
        }
      ],
      "source": [
        "#Using the pipeline\n",
        "pd.DataFrame(numeric_transformer.fit_transform(df_train_num)).boxplot()"
      ]
    },
    {
      "cell_type": "code",
      "execution_count": 21,
      "metadata": {
        "id": "G8NkFbWFGtnQ"
      },
      "outputs": [],
      "source": [
        "#Using ColumnTransformer even Categorical values can be ingested in a pipeline\n",
        "categorical_transformer = OneHotEncoder(sparse=False)\n",
        "preprocessor = ColumnTransformer(\n",
        "    transformers=[\n",
        "        (\"num\", numeric_transformer, num_columns),\n",
        "        (\"cat\", categorical_transformer, cat_columns),\n",
        "    ]\n",
        ")"
      ]
    },
    {
      "cell_type": "code",
      "execution_count": 22,
      "metadata": {
        "colab": {
          "base_uri": "https://localhost:8080/",
          "height": 143
        },
        "id": "bW07wtHVHX22",
        "outputId": "a8d8646b-ef58-4003-e7bd-c5f3f7f17c8c"
      },
      "outputs": [
        {
          "output_type": "execute_result",
          "data": {
            "text/plain": [
              "         wc       pcv        rc ane_no ane_yes classification_ckd  \\\n",
              "0 -1.298389  0.192584  1.388252    1.0     0.0                0.0   \n",
              "1 -0.415470  1.699867 -0.054922    1.0     0.0                1.0   \n",
              "2 -0.415470 -0.972618 -1.618009    1.0     0.0                1.0   \n",
              "\n",
              "  classification_notckd  \n",
              "0                   1.0  \n",
              "1                   0.0  \n",
              "2                   0.0  "
            ],
            "text/html": [
              "\n",
              "  <div id=\"df-e5677b13-e549-4eda-b479-f64276422271\">\n",
              "    <div class=\"colab-df-container\">\n",
              "      <div>\n",
              "<style scoped>\n",
              "    .dataframe tbody tr th:only-of-type {\n",
              "        vertical-align: middle;\n",
              "    }\n",
              "\n",
              "    .dataframe tbody tr th {\n",
              "        vertical-align: top;\n",
              "    }\n",
              "\n",
              "    .dataframe thead tr th {\n",
              "        text-align: left;\n",
              "    }\n",
              "</style>\n",
              "<table border=\"1\" class=\"dataframe\">\n",
              "  <thead>\n",
              "    <tr>\n",
              "      <th></th>\n",
              "      <th>wc</th>\n",
              "      <th>pcv</th>\n",
              "      <th>rc</th>\n",
              "      <th>ane_no</th>\n",
              "      <th>ane_yes</th>\n",
              "      <th>classification_ckd</th>\n",
              "      <th>classification_notckd</th>\n",
              "    </tr>\n",
              "  </thead>\n",
              "  <tbody>\n",
              "    <tr>\n",
              "      <th>0</th>\n",
              "      <td>-1.298389</td>\n",
              "      <td>0.192584</td>\n",
              "      <td>1.388252</td>\n",
              "      <td>1.0</td>\n",
              "      <td>0.0</td>\n",
              "      <td>0.0</td>\n",
              "      <td>1.0</td>\n",
              "    </tr>\n",
              "    <tr>\n",
              "      <th>1</th>\n",
              "      <td>-0.415470</td>\n",
              "      <td>1.699867</td>\n",
              "      <td>-0.054922</td>\n",
              "      <td>1.0</td>\n",
              "      <td>0.0</td>\n",
              "      <td>1.0</td>\n",
              "      <td>0.0</td>\n",
              "    </tr>\n",
              "    <tr>\n",
              "      <th>2</th>\n",
              "      <td>-0.415470</td>\n",
              "      <td>-0.972618</td>\n",
              "      <td>-1.618009</td>\n",
              "      <td>1.0</td>\n",
              "      <td>0.0</td>\n",
              "      <td>1.0</td>\n",
              "      <td>0.0</td>\n",
              "    </tr>\n",
              "  </tbody>\n",
              "</table>\n",
              "</div>\n",
              "      <button class=\"colab-df-convert\" onclick=\"convertToInteractive('df-e5677b13-e549-4eda-b479-f64276422271')\"\n",
              "              title=\"Convert this dataframe to an interactive table.\"\n",
              "              style=\"display:none;\">\n",
              "        \n",
              "  <svg xmlns=\"http://www.w3.org/2000/svg\" height=\"24px\"viewBox=\"0 0 24 24\"\n",
              "       width=\"24px\">\n",
              "    <path d=\"M0 0h24v24H0V0z\" fill=\"none\"/>\n",
              "    <path d=\"M18.56 5.44l.94 2.06.94-2.06 2.06-.94-2.06-.94-.94-2.06-.94 2.06-2.06.94zm-11 1L8.5 8.5l.94-2.06 2.06-.94-2.06-.94L8.5 2.5l-.94 2.06-2.06.94zm10 10l.94 2.06.94-2.06 2.06-.94-2.06-.94-.94-2.06-.94 2.06-2.06.94z\"/><path d=\"M17.41 7.96l-1.37-1.37c-.4-.4-.92-.59-1.43-.59-.52 0-1.04.2-1.43.59L10.3 9.45l-7.72 7.72c-.78.78-.78 2.05 0 2.83L4 21.41c.39.39.9.59 1.41.59.51 0 1.02-.2 1.41-.59l7.78-7.78 2.81-2.81c.8-.78.8-2.07 0-2.86zM5.41 20L4 18.59l7.72-7.72 1.47 1.35L5.41 20z\"/>\n",
              "  </svg>\n",
              "      </button>\n",
              "      \n",
              "  <style>\n",
              "    .colab-df-container {\n",
              "      display:flex;\n",
              "      flex-wrap:wrap;\n",
              "      gap: 12px;\n",
              "    }\n",
              "\n",
              "    .colab-df-convert {\n",
              "      background-color: #E8F0FE;\n",
              "      border: none;\n",
              "      border-radius: 50%;\n",
              "      cursor: pointer;\n",
              "      display: none;\n",
              "      fill: #1967D2;\n",
              "      height: 32px;\n",
              "      padding: 0 0 0 0;\n",
              "      width: 32px;\n",
              "    }\n",
              "\n",
              "    .colab-df-convert:hover {\n",
              "      background-color: #E2EBFA;\n",
              "      box-shadow: 0px 1px 2px rgba(60, 64, 67, 0.3), 0px 1px 3px 1px rgba(60, 64, 67, 0.15);\n",
              "      fill: #174EA6;\n",
              "    }\n",
              "\n",
              "    [theme=dark] .colab-df-convert {\n",
              "      background-color: #3B4455;\n",
              "      fill: #D2E3FC;\n",
              "    }\n",
              "\n",
              "    [theme=dark] .colab-df-convert:hover {\n",
              "      background-color: #434B5C;\n",
              "      box-shadow: 0px 1px 3px 1px rgba(0, 0, 0, 0.15);\n",
              "      filter: drop-shadow(0px 1px 2px rgba(0, 0, 0, 0.3));\n",
              "      fill: #FFFFFF;\n",
              "    }\n",
              "  </style>\n",
              "\n",
              "      <script>\n",
              "        const buttonEl =\n",
              "          document.querySelector('#df-e5677b13-e549-4eda-b479-f64276422271 button.colab-df-convert');\n",
              "        buttonEl.style.display =\n",
              "          google.colab.kernel.accessAllowed ? 'block' : 'none';\n",
              "\n",
              "        async function convertToInteractive(key) {\n",
              "          const element = document.querySelector('#df-e5677b13-e549-4eda-b479-f64276422271');\n",
              "          const dataTable =\n",
              "            await google.colab.kernel.invokeFunction('convertToInteractive',\n",
              "                                                     [key], {});\n",
              "          if (!dataTable) return;\n",
              "\n",
              "          const docLinkHtml = 'Like what you see? Visit the ' +\n",
              "            '<a target=\"_blank\" href=https://colab.research.google.com/notebooks/data_table.ipynb>data table notebook</a>'\n",
              "            + ' to learn more about interactive tables.';\n",
              "          element.innerHTML = '';\n",
              "          dataTable['output_type'] = 'display_data';\n",
              "          await google.colab.output.renderOutput(dataTable, element);\n",
              "          const docLink = document.createElement('div');\n",
              "          docLink.innerHTML = docLinkHtml;\n",
              "          element.appendChild(docLink);\n",
              "        }\n",
              "      </script>\n",
              "    </div>\n",
              "  </div>\n",
              "  "
            ]
          },
          "metadata": {},
          "execution_count": 22
        }
      ],
      "source": [
        "#Looking the preprocessed Dataframe from pipeline\n",
        "df_train = pd.DataFrame(preprocessor.fit_transform(df_train))\n",
        "#Naming the columns\n",
        "all_col_names = [num_columns + list(preprocessor.transformers_[1][1].get_feature_names_out())]\n",
        "df_train.columns = all_col_names\n",
        "df_train.head(3)"
      ]
    },
    {
      "cell_type": "code",
      "execution_count": 23,
      "metadata": {
        "colab": {
          "base_uri": "https://localhost:8080/"
        },
        "id": "OM0d1OqLYROA",
        "outputId": "c4c92bf5-df4d-402e-ae2e-572871dd5b6b"
      },
      "outputs": [
        {
          "output_type": "execute_result",
          "data": {
            "text/plain": [
              "0.8066378868944614"
            ]
          },
          "metadata": {},
          "execution_count": 23
        }
      ],
      "source": [
        "#Training the first model (Ridge) ussing crossvalidation and printing the coefficient of determination \n",
        "#R2 score and CV = 15\n",
        "ridge = RidgeCV(alphas=(0.1,0.2,0.5,1,2,5,10),cv=15)\n",
        "ridge.fit(df_train,y_train)\n",
        "ridge.score(df_train, y_train)"
      ]
    },
    {
      "cell_type": "code",
      "execution_count": 24,
      "metadata": {
        "colab": {
          "base_uri": "https://localhost:8080/"
        },
        "id": "PtGbtvxlZCd9",
        "outputId": "2a7a2651-7999-4e65-a578-1ae64b1de0cd"
      },
      "outputs": [
        {
          "output_type": "execute_result",
          "data": {
            "text/plain": [
              "0.8067816204357368"
            ]
          },
          "metadata": {},
          "execution_count": 24
        }
      ],
      "source": [
        "#Second model using Lasso\n",
        "lasso = LassoCV(eps=.01,n_alphas=100,cv=15, max_iter=100)\n",
        "lasso.fit(df_train, y_train)\n",
        "lasso.score(df_train,y_train)"
      ]
    },
    {
      "cell_type": "code",
      "execution_count": 25,
      "metadata": {
        "colab": {
          "base_uri": "https://localhost:8080/"
        },
        "id": "8mTLrR7zZ2WK",
        "outputId": "b2ee898b-1e75-43cb-e516-641e22b2d50c"
      },
      "outputs": [
        {
          "output_type": "execute_result",
          "data": {
            "text/plain": [
              "0.8075990448441086"
            ]
          },
          "metadata": {},
          "execution_count": 25
        }
      ],
      "source": [
        "#Third model using ElasticNet\n",
        "elastic = ElasticNetCV(l1_ratio=[0.01,0.2,0.5,0.7,0.9,1], eps=0.01/10,n_alphas=1000, cv=15)\n",
        "elastic.fit(df_train, y_train)\n",
        "elastic.score(df_train, y_train)"
      ]
    },
    {
      "cell_type": "code",
      "execution_count": 26,
      "metadata": {
        "colab": {
          "base_uri": "https://localhost:8080/"
        },
        "id": "E_mF7BYVhvW7",
        "outputId": "28727323-7b9e-44d9-8d27-750fe59de3c9"
      },
      "outputs": [
        {
          "output_type": "stream",
          "name": "stdout",
          "text": [
            "[-0.1  1.4  0.5  0.5 -0.5 -0.6  0.6]\n",
            "[-0.   1.6  0.4  1.  -0.  -1.2  0. ]\n",
            "[-0.1  1.5  0.5  0.6 -0.6 -0.7  0.7]\n"
          ]
        }
      ],
      "source": [
        "#Print all the coefficient values by model\n",
        "print(np.round(ridge.coef_,1))\n",
        "print(np.round(lasso.coef_,1))\n",
        "print(np.round(elastic.coef_,1))"
      ]
    },
    {
      "cell_type": "code",
      "execution_count": 27,
      "metadata": {
        "colab": {
          "base_uri": "https://localhost:8080/",
          "height": 286
        },
        "id": "Mo7MIMsBLdPa",
        "outputId": "76ead6c9-cc0f-4106-8db8-504ba18d9190"
      },
      "outputs": [
        {
          "output_type": "execute_result",
          "data": {
            "text/plain": [
              "<matplotlib.axes._subplots.AxesSubplot at 0x7fa61204a650>"
            ]
          },
          "metadata": {},
          "execution_count": 27
        },
        {
          "output_type": "display_data",
          "data": {
            "text/plain": [
              "<Figure size 864x288 with 1 Axes>"
            ],
            "image/png": "[encoded data removed]"
          },
          "metadata": {}
        }
      ],
      "source": [
        "#Check the MSE score with Cross validation to make a basic summary statistics with CV=100\n",
        "np.random.seed(22)\n",
        "\n",
        "#Make the Mean Squared Error Scorer for the cross_val_score function\n",
        "mse_scorer = make_scorer(mean_squared_error)\n",
        "mse_ridge = cross_val_score(ridge, df_train, y_train, cv=100, scoring=mse_scorer)\n",
        "\n",
        "#plot the distribution of the scores\n",
        "sns.histplot(mse_ridge)"
      ]
    },
    {
      "cell_type": "code",
      "execution_count": 28,
      "metadata": {
        "colab": {
          "base_uri": "https://localhost:8080/",
          "height": 286
        },
        "id": "PKfv9FqRxGwz",
        "outputId": "626f1741-a4d6-4d9c-e39f-09751edb6a74"
      },
      "outputs": [
        {
          "output_type": "execute_result",
          "data": {
            "text/plain": [
              "<matplotlib.axes._subplots.AxesSubplot at 0x7fa60fdf6290>"
            ]
          },
          "metadata": {},
          "execution_count": 28
        },
        {
          "output_type": "display_data",
          "data": {
            "text/plain": [
              "<Figure size 864x288 with 2 Axes>"
            ],
            "image/png": "[encoded data removed]"
          },
          "metadata": {}
        }
      ],
      "source": [
        "#Fitting to lognormal distribution since np.mean and typical measures\n",
        "#can fail infering normality of the data\n",
        "s, l, sd = lognorm.fit(mse_ridge)\n",
        "#generate random values with parametres from the fitted data\n",
        "dummy_lognorm = lognorm.rvs(s,l,sd,size=100)\n",
        "\n",
        "#Asses the fitting\n",
        "fig, axs = plt.subplots(2,1)\n",
        "sns.boxplot(mse_ridge, ax=axs[0], color=\"green\")\n",
        "sns.boxplot(dummy_lognorm, ax = axs[1], color=\"orange\")"
      ]
    },
    {
      "cell_type": "code",
      "execution_count": 29,
      "metadata": {
        "colab": {
          "base_uri": "https://localhost:8080/",
          "height": 303
        },
        "id": "QyfH5_RlswoY",
        "outputId": "a71fb12e-1cde-4ebe-d0ba-0178271129e0"
      },
      "outputs": [
        {
          "output_type": "execute_result",
          "data": {
            "text/plain": [
              "Text(0.5, 0, 'MSE')"
            ]
          },
          "metadata": {},
          "execution_count": 29
        },
        {
          "output_type": "display_data",
          "data": {
            "text/plain": [
              "<Figure size 864x288 with 3 Axes>"
            ],
            "image/png": "[encoded data removed]"
          },
          "metadata": {}
        }
      ],
      "source": [
        "#Calculating for the last models\n",
        "mse_lasso = cross_val_score(lasso, df_train, y_train, cv=100, scoring=mse_scorer)\n",
        "mse_elastic = cross_val_score(elastic, df_train, y_train, cv=100, scoring=mse_scorer)\n",
        "\n",
        "#Plot the distributions\n",
        "fig,axs = plt.subplots(1,3,sharex=True,sharey=True)\n",
        "sns.histplot(mse_lasso, bins=12, color=\"green\", alpha=0.8, ax = axs[0])\n",
        "sns.histplot(mse_ridge, bins=12, color=\"orange\", alpha=0.8, ax=axs[1])\n",
        "sns.histplot(mse_elastic, bins=12, color=\"blue\", alpha=0.8, ax=axs[2])\n",
        "axs[0].set_ylabel(\"Count\")\n",
        "axs[1].set_xlabel(\"MSE\")"
      ]
    },
    {
      "cell_type": "code",
      "execution_count": 30,
      "metadata": {
        "colab": {
          "base_uri": "https://localhost:8080/",
          "height": 143
        },
        "id": "fV5Gt9h5yM2q",
        "outputId": "557df736-b974-4cd2-a89b-e2871bcb642e"
      },
      "outputs": [
        {
          "output_type": "execute_result",
          "data": {
            "text/plain": [
              "         Mean  Variance  Skewnes  Kurtosis\n",
              "Lasso    1.93     14.59    13.28    819.55\n",
              "Ridge    1.87     11.89    11.26    527.60\n",
              "Elastic  1.88     12.10    11.38    542.07"
            ],
            "text/html": [
              "\n",
              "  <div id=\"df-0d3edbbe-962a-45cf-9f28-27f54c21c01f\">\n",
              "    <div class=\"colab-df-container\">\n",
              "      <div>\n",
              "<style scoped>\n",
              "    .dataframe tbody tr th:only-of-type {\n",
              "        vertical-align: middle;\n",
              "    }\n",
              "\n",
              "    .dataframe tbody tr th {\n",
              "        vertical-align: top;\n",
              "    }\n",
              "\n",
              "    .dataframe thead th {\n",
              "        text-align: right;\n",
              "    }\n",
              "</style>\n",
              "<table border=\"1\" class=\"dataframe\">\n",
              "  <thead>\n",
              "    <tr style=\"text-align: right;\">\n",
              "      <th></th>\n",
              "      <th>Mean</th>\n",
              "      <th>Variance</th>\n",
              "      <th>Skewnes</th>\n",
              "      <th>Kurtosis</th>\n",
              "    </tr>\n",
              "  </thead>\n",
              "  <tbody>\n",
              "    <tr>\n",
              "      <th>Lasso</th>\n",
              "      <td>1.93</td>\n",
              "      <td>14.59</td>\n",
              "      <td>13.28</td>\n",
              "      <td>819.55</td>\n",
              "    </tr>\n",
              "    <tr>\n",
              "      <th>Ridge</th>\n",
              "      <td>1.87</td>\n",
              "      <td>11.89</td>\n",
              "      <td>11.26</td>\n",
              "      <td>527.60</td>\n",
              "    </tr>\n",
              "    <tr>\n",
              "      <th>Elastic</th>\n",
              "      <td>1.88</td>\n",
              "      <td>12.10</td>\n",
              "      <td>11.38</td>\n",
              "      <td>542.07</td>\n",
              "    </tr>\n",
              "  </tbody>\n",
              "</table>\n",
              "</div>\n",
              "      <button class=\"colab-df-convert\" onclick=\"convertToInteractive('df-0d3edbbe-962a-45cf-9f28-27f54c21c01f')\"\n",
              "              title=\"Convert this dataframe to an interactive table.\"\n",
              "              style=\"display:none;\">\n",
              "        \n",
              "  <svg xmlns=\"http://www.w3.org/2000/svg\" height=\"24px\"viewBox=\"0 0 24 24\"\n",
              "       width=\"24px\">\n",
              "    <path d=\"M0 0h24v24H0V0z\" fill=\"none\"/>\n",
              "    <path d=\"M18.56 5.44l.94 2.06.94-2.06 2.06-.94-2.06-.94-.94-2.06-.94 2.06-2.06.94zm-11 1L8.5 8.5l.94-2.06 2.06-.94-2.06-.94L8.5 2.5l-.94 2.06-2.06.94zm10 10l.94 2.06.94-2.06 2.06-.94-2.06-.94-.94-2.06-.94 2.06-2.06.94z\"/><path d=\"M17.41 7.96l-1.37-1.37c-.4-.4-.92-.59-1.43-.59-.52 0-1.04.2-1.43.59L10.3 9.45l-7.72 7.72c-.78.78-.78 2.05 0 2.83L4 21.41c.39.39.9.59 1.41.59.51 0 1.02-.2 1.41-.59l7.78-7.78 2.81-2.81c.8-.78.8-2.07 0-2.86zM5.41 20L4 18.59l7.72-7.72 1.47 1.35L5.41 20z\"/>\n",
              "  </svg>\n",
              "      </button>\n",
              "      \n",
              "  <style>\n",
              "    .colab-df-container {\n",
              "      display:flex;\n",
              "      flex-wrap:wrap;\n",
              "      gap: 12px;\n",
              "    }\n",
              "\n",
              "    .colab-df-convert {\n",
              "      background-color: #E8F0FE;\n",
              "      border: none;\n",
              "      border-radius: 50%;\n",
              "      cursor: pointer;\n",
              "      display: none;\n",
              "      fill: #1967D2;\n",
              "      height: 32px;\n",
              "      padding: 0 0 0 0;\n",
              "      width: 32px;\n",
              "    }\n",
              "\n",
              "    .colab-df-convert:hover {\n",
              "      background-color: #E2EBFA;\n",
              "      box-shadow: 0px 1px 2px rgba(60, 64, 67, 0.3), 0px 1px 3px 1px rgba(60, 64, 67, 0.15);\n",
              "      fill: #174EA6;\n",
              "    }\n",
              "\n",
              "    [theme=dark] .colab-df-convert {\n",
              "      background-color: #3B4455;\n",
              "      fill: #D2E3FC;\n",
              "    }\n",
              "\n",
              "    [theme=dark] .colab-df-convert:hover {\n",
              "      background-color: #434B5C;\n",
              "      box-shadow: 0px 1px 3px 1px rgba(0, 0, 0, 0.15);\n",
              "      filter: drop-shadow(0px 1px 2px rgba(0, 0, 0, 0.3));\n",
              "      fill: #FFFFFF;\n",
              "    }\n",
              "  </style>\n",
              "\n",
              "      <script>\n",
              "        const buttonEl =\n",
              "          document.querySelector('#df-0d3edbbe-962a-45cf-9f28-27f54c21c01f button.colab-df-convert');\n",
              "        buttonEl.style.display =\n",
              "          google.colab.kernel.accessAllowed ? 'block' : 'none';\n",
              "\n",
              "        async function convertToInteractive(key) {\n",
              "          const element = document.querySelector('#df-0d3edbbe-962a-45cf-9f28-27f54c21c01f');\n",
              "          const dataTable =\n",
              "            await google.colab.kernel.invokeFunction('convertToInteractive',\n",
              "                                                     [key], {});\n",
              "          if (!dataTable) return;\n",
              "\n",
              "          const docLinkHtml = 'Like what you see? Visit the ' +\n",
              "            '<a target=\"_blank\" href=https://colab.research.google.com/notebooks/data_table.ipynb>data table notebook</a>'\n",
              "            + ' to learn more about interactive tables.';\n",
              "          element.innerHTML = '';\n",
              "          dataTable['output_type'] = 'display_data';\n",
              "          await google.colab.output.renderOutput(dataTable, element);\n",
              "          const docLink = document.createElement('div');\n",
              "          docLink.innerHTML = docLinkHtml;\n",
              "          element.appendChild(docLink);\n",
              "        }\n",
              "      </script>\n",
              "    </div>\n",
              "  </div>\n",
              "  "
            ]
          },
          "metadata": {},
          "execution_count": 30
        }
      ],
      "source": [
        "#Basic summary statistics from fitted score data\n",
        "scores_models = [mse_lasso, mse_ridge, mse_elastic]\n",
        "moments_models = []\n",
        "for i in scores_models:\n",
        "  s, l, sd = lognorm.fit(i)\n",
        "  moments_models.append(list(np.round(lognorm.stats(s,l,sd,moments=\"mvsk\"),2)))\n",
        "\n",
        "pd.DataFrame(moments_models, columns=[\"Mean\",\"Variance\",\"Skewnes\",\n",
        "                                      \"Kurtosis\"], index=[\"Lasso\",\"Ridge\",\"Elastic\"])"
      ]
    },
    {
      "cell_type": "code",
      "execution_count": 31,
      "metadata": {
        "colab": {
          "base_uri": "https://localhost:8080/",
          "height": 286
        },
        "id": "rjqO0Xci1Qzr",
        "outputId": "706169a9-ed4c-4c96-994f-3e51063f73fc"
      },
      "outputs": [
        {
          "output_type": "execute_result",
          "data": {
            "text/plain": [
              "<matplotlib.legend.Legend at 0x7fa60f536110>"
            ]
          },
          "metadata": {},
          "execution_count": 31
        },
        {
          "output_type": "display_data",
          "data": {
            "text/plain": [
              "<Figure size 864x288 with 1 Axes>"
            ],
            "image/png": "[encoded data removed]"
          },
          "metadata": {}
        }
      ],
      "source": [
        "#Choosing lasso for the final model, since ElasticNet is computational expensive, and has less\n",
        "#Parameters than Ridge regression\n",
        "best_alpha = np.round(lasso.alpha_,3)\n",
        "best_coeff = list(lasso.coef_)\n",
        "#Plot the different coefficient values from different alphas(penalty parameter) to show\n",
        "#feature selection made by Lasso regressiong\n",
        "alphas = np.linspace(0,2,100)\n",
        "coeff_weigths = []\n",
        "\n",
        "for i in alphas:\n",
        "  lasso = Lasso(alpha=i)\n",
        "  lasso.fit(df_train, y_train)\n",
        "  coeff_weigths.append(list(lasso.coef_))\n",
        "\n",
        "plt.plot(pd.DataFrame(coeff_weigths))\n",
        "plt.legend(list(all_col_names[0]))"
      ]
    },
    {
      "cell_type": "code",
      "execution_count": 32,
      "metadata": {
        "colab": {
          "base_uri": "https://localhost:8080/",
          "height": 303
        },
        "id": "dzy-Dsbr3tyZ",
        "outputId": "88004eee-d351-41a3-a94b-2439882b6bda"
      },
      "outputs": [
        {
          "output_type": "execute_result",
          "data": {
            "text/plain": [
              "<matplotlib.lines.Line2D at 0x7fa60f14ef50>"
            ]
          },
          "metadata": {},
          "execution_count": 32
        },
        {
          "output_type": "display_data",
          "data": {
            "text/plain": [
              "<Figure size 864x288 with 1 Axes>"
            ],
            "image/png": "[encoded data removed]"
          },
          "metadata": {}
        }
      ],
      "source": [
        "#Plotting the interval of the best alpha (~0.026)\n",
        "#found through LassoCV \n",
        "\n",
        "alphas = np.linspace(0,0.25,500)\n",
        "coeff_weigths = []\n",
        "\n",
        "for i in alphas:\n",
        "  lasso = Lasso(alpha=i)\n",
        "  lasso.fit(df_train, y_train)\n",
        "  coeff_weigths.append(list(lasso.coef_))\n",
        "\n",
        "for i in range(7):\n",
        "  sns.lineplot(alphas,pd.DataFrame(coeff_weigths)[i])\n",
        "\n",
        "plt.legend(list(all_col_names[0]))\n",
        "plt.xlabel(\"alphas\")\n",
        "plt.ylabel(\"weigth\")\n",
        "plt.axvline(x = best_alpha, color = 'black')"
      ]
    },
    {
      "cell_type": "code",
      "execution_count": 33,
      "metadata": {
        "colab": {
          "base_uri": "https://localhost:8080/",
          "height": 373
        },
        "id": "5QfRuzB4IP3i",
        "outputId": "2f50a407-aebf-4c6e-c5da-b797da9968f8"
      },
      "outputs": [
        {
          "output_type": "display_data",
          "data": {
            "text/plain": [
              "<Figure size 864x288 with 1 Axes>"
            ],
            "image/png": "[encoded data removed]"
          },
          "metadata": {}
        }
      ],
      "source": [
        "#barplot the Coefficient weights for the Lasso model\n",
        "#Generate random colors for chart bar\n",
        "random_colors = []\n",
        "for i in range(len(best_coeff)):\n",
        "  random_colors.append(fake.hex_color())\n",
        "\n",
        "#Bar plot the coefficient weights\n",
        "plt.bar(np.arange(len(best_coeff)),np.round(best_coeff,1), color=random_colors)\n",
        "plt.xticks(np.arange(len(best_coeff)), all_col_names[0], rotation=90);"
      ]
    },
    {
      "cell_type": "code",
      "execution_count": 34,
      "metadata": {
        "colab": {
          "base_uri": "https://localhost:8080/"
        },
        "id": "1opj5ubp9Otl",
        "outputId": "6e886dbb-f721-46e0-ca33-c1f6e54f10f9"
      },
      "outputs": [
        {
          "output_type": "execute_result",
          "data": {
            "text/plain": [
              "array(['1', 'wc', 'pcv', 'rc', 'ane_no', 'ane_yes', 'classification_ckd',\n",
              "       'classification_notckd', 'wc pcv', 'wc rc', 'wc ane_no',\n",
              "       'wc ane_yes', 'wc classification_ckd', 'wc classification_notckd',\n",
              "       'pcv rc', 'pcv ane_no', 'pcv ane_yes', 'pcv classification_ckd',\n",
              "       'pcv classification_notckd', 'rc ane_no', 'rc ane_yes',\n",
              "       'rc classification_ckd', 'rc classification_notckd',\n",
              "       'ane_no ane_yes', 'ane_no classification_ckd',\n",
              "       'ane_no classification_notckd', 'ane_yes classification_ckd',\n",
              "       'ane_yes classification_notckd',\n",
              "       'classification_ckd classification_notckd'], dtype=object)"
            ]
          },
          "metadata": {},
          "execution_count": 34
        }
      ],
      "source": [
        "#Making polynomial features \n",
        "df_train.columns = df_train.columns.get_level_values(0)\n",
        "\n",
        "poly = PolynomialFeatures(2, interaction_only=True)\n",
        "\n",
        "df_train_poly = pd.DataFrame(poly.fit_transform(df_train))\n",
        "\n",
        "poly.get_feature_names_out()"
      ]
    },
    {
      "cell_type": "code",
      "execution_count": 35,
      "metadata": {
        "colab": {
          "base_uri": "https://localhost:8080/"
        },
        "id": "cCOBuUHf8VcN",
        "outputId": "fba46fe1-04aa-4b62-8725-d085cc3389af"
      },
      "outputs": [
        {
          "output_type": "stream",
          "name": "stdout",
          "text": [
            "0.025589605633570378\n",
            "[ 0.          0.          0.51806868  0.          0.         -0.\n",
            " -2.04501405  0.         -0.         -0.03186438  0.         -0.\n",
            "  0.0540461  -0.41665812 -0.12201799  0.          0.48260823  1.74920372\n",
            " -0.          0.19310407 -0.         -0.          0.12043644  0.\n",
            " -0.          0.         -0.          0.          0.        ]\n"
          ]
        }
      ],
      "source": [
        "#LassoCV fit the Polynomial model and check the best alpha parameter\n",
        "#along with coefficient weights far from\n",
        "lasso = LassoCV(eps=.01,n_alphas=10000,cv=15, max_iter=1000)\n",
        "lasso.fit(df_train_poly, y_train)\n",
        "print(lasso.alpha_)\n",
        "print(lasso.coef_)"
      ]
    },
    {
      "cell_type": "code",
      "execution_count": 36,
      "metadata": {
        "colab": {
          "base_uri": "https://localhost:8080/",
          "height": 363
        },
        "id": "P0xL61JU-XOQ",
        "outputId": "cd3417ed-8076-46fa-99af-17ad8deddfd0"
      },
      "outputs": [
        {
          "output_type": "execute_result",
          "data": {
            "text/plain": [
              "                              0\n",
              "pcv                       0.518\n",
              "classification_ckd       -2.045\n",
              "wc rc                    -0.032\n",
              "wc classification_ckd     0.054\n",
              "wc classification_notckd -0.417\n",
              "pcv rc                   -0.122\n",
              "pcv ane_yes               0.483\n",
              "pcv classification_ckd    1.749\n",
              "rc ane_no                 0.193\n",
              "rc classification_notckd  0.120"
            ],
            "text/html": [
              "\n",
              "  <div id=\"df-504efed3-7811-4380-8fc3-58e828a8abbf\">\n",
              "    <div class=\"colab-df-container\">\n",
              "      <div>\n",
              "<style scoped>\n",
              "    .dataframe tbody tr th:only-of-type {\n",
              "        vertical-align: middle;\n",
              "    }\n",
              "\n",
              "    .dataframe tbody tr th {\n",
              "        vertical-align: top;\n",
              "    }\n",
              "\n",
              "    .dataframe thead th {\n",
              "        text-align: right;\n",
              "    }\n",
              "</style>\n",
              "<table border=\"1\" class=\"dataframe\">\n",
              "  <thead>\n",
              "    <tr style=\"text-align: right;\">\n",
              "      <th></th>\n",
              "      <th>0</th>\n",
              "    </tr>\n",
              "  </thead>\n",
              "  <tbody>\n",
              "    <tr>\n",
              "      <th>pcv</th>\n",
              "      <td>0.518</td>\n",
              "    </tr>\n",
              "    <tr>\n",
              "      <th>classification_ckd</th>\n",
              "      <td>-2.045</td>\n",
              "    </tr>\n",
              "    <tr>\n",
              "      <th>wc rc</th>\n",
              "      <td>-0.032</td>\n",
              "    </tr>\n",
              "    <tr>\n",
              "      <th>wc classification_ckd</th>\n",
              "      <td>0.054</td>\n",
              "    </tr>\n",
              "    <tr>\n",
              "      <th>wc classification_notckd</th>\n",
              "      <td>-0.417</td>\n",
              "    </tr>\n",
              "    <tr>\n",
              "      <th>pcv rc</th>\n",
              "      <td>-0.122</td>\n",
              "    </tr>\n",
              "    <tr>\n",
              "      <th>pcv ane_yes</th>\n",
              "      <td>0.483</td>\n",
              "    </tr>\n",
              "    <tr>\n",
              "      <th>pcv classification_ckd</th>\n",
              "      <td>1.749</td>\n",
              "    </tr>\n",
              "    <tr>\n",
              "      <th>rc ane_no</th>\n",
              "      <td>0.193</td>\n",
              "    </tr>\n",
              "    <tr>\n",
              "      <th>rc classification_notckd</th>\n",
              "      <td>0.120</td>\n",
              "    </tr>\n",
              "  </tbody>\n",
              "</table>\n",
              "</div>\n",
              "      <button class=\"colab-df-convert\" onclick=\"convertToInteractive('df-504efed3-7811-4380-8fc3-58e828a8abbf')\"\n",
              "              title=\"Convert this dataframe to an interactive table.\"\n",
              "              style=\"display:none;\">\n",
              "        \n",
              "  <svg xmlns=\"http://www.w3.org/2000/svg\" height=\"24px\"viewBox=\"0 0 24 24\"\n",
              "       width=\"24px\">\n",
              "    <path d=\"M0 0h24v24H0V0z\" fill=\"none\"/>\n",
              "    <path d=\"M18.56 5.44l.94 2.06.94-2.06 2.06-.94-2.06-.94-.94-2.06-.94 2.06-2.06.94zm-11 1L8.5 8.5l.94-2.06 2.06-.94-2.06-.94L8.5 2.5l-.94 2.06-2.06.94zm10 10l.94 2.06.94-2.06 2.06-.94-2.06-.94-.94-2.06-.94 2.06-2.06.94z\"/><path d=\"M17.41 7.96l-1.37-1.37c-.4-.4-.92-.59-1.43-.59-.52 0-1.04.2-1.43.59L10.3 9.45l-7.72 7.72c-.78.78-.78 2.05 0 2.83L4 21.41c.39.39.9.59 1.41.59.51 0 1.02-.2 1.41-.59l7.78-7.78 2.81-2.81c.8-.78.8-2.07 0-2.86zM5.41 20L4 18.59l7.72-7.72 1.47 1.35L5.41 20z\"/>\n",
              "  </svg>\n",
              "      </button>\n",
              "      \n",
              "  <style>\n",
              "    .colab-df-container {\n",
              "      display:flex;\n",
              "      flex-wrap:wrap;\n",
              "      gap: 12px;\n",
              "    }\n",
              "\n",
              "    .colab-df-convert {\n",
              "      background-color: #E8F0FE;\n",
              "      border: none;\n",
              "      border-radius: 50%;\n",
              "      cursor: pointer;\n",
              "      display: none;\n",
              "      fill: #1967D2;\n",
              "      height: 32px;\n",
              "      padding: 0 0 0 0;\n",
              "      width: 32px;\n",
              "    }\n",
              "\n",
              "    .colab-df-convert:hover {\n",
              "      background-color: #E2EBFA;\n",
              "      box-shadow: 0px 1px 2px rgba(60, 64, 67, 0.3), 0px 1px 3px 1px rgba(60, 64, 67, 0.15);\n",
              "      fill: #174EA6;\n",
              "    }\n",
              "\n",
              "    [theme=dark] .colab-df-convert {\n",
              "      background-color: #3B4455;\n",
              "      fill: #D2E3FC;\n",
              "    }\n",
              "\n",
              "    [theme=dark] .colab-df-convert:hover {\n",
              "      background-color: #434B5C;\n",
              "      box-shadow: 0px 1px 3px 1px rgba(0, 0, 0, 0.15);\n",
              "      filter: drop-shadow(0px 1px 2px rgba(0, 0, 0, 0.3));\n",
              "      fill: #FFFFFF;\n",
              "    }\n",
              "  </style>\n",
              "\n",
              "      <script>\n",
              "        const buttonEl =\n",
              "          document.querySelector('#df-504efed3-7811-4380-8fc3-58e828a8abbf button.colab-df-convert');\n",
              "        buttonEl.style.display =\n",
              "          google.colab.kernel.accessAllowed ? 'block' : 'none';\n",
              "\n",
              "        async function convertToInteractive(key) {\n",
              "          const element = document.querySelector('#df-504efed3-7811-4380-8fc3-58e828a8abbf');\n",
              "          const dataTable =\n",
              "            await google.colab.kernel.invokeFunction('convertToInteractive',\n",
              "                                                     [key], {});\n",
              "          if (!dataTable) return;\n",
              "\n",
              "          const docLinkHtml = 'Like what you see? Visit the ' +\n",
              "            '<a target=\"_blank\" href=https://colab.research.google.com/notebooks/data_table.ipynb>data table notebook</a>'\n",
              "            + ' to learn more about interactive tables.';\n",
              "          element.innerHTML = '';\n",
              "          dataTable['output_type'] = 'display_data';\n",
              "          await google.colab.output.renderOutput(dataTable, element);\n",
              "          const docLink = document.createElement('div');\n",
              "          docLink.innerHTML = docLinkHtml;\n",
              "          element.appendChild(docLink);\n",
              "        }\n",
              "      </script>\n",
              "    </div>\n",
              "  </div>\n",
              "  "
            ]
          },
          "metadata": {},
          "execution_count": 36
        }
      ],
      "source": [
        "#Dataframe to show the parameters\n",
        "df_coeff = pd.DataFrame(np.round(np.array(lasso.coef_).reshape(1,29),3), columns=list(poly.get_feature_names_out()))\n",
        "df_coeff.T.loc[(df_coeff.T!=0.0).any(axis=1)]"
      ]
    },
    {
      "cell_type": "code",
      "execution_count": 37,
      "metadata": {
        "colab": {
          "base_uri": "https://localhost:8080/",
          "height": 473
        },
        "id": "x4fvJjdsE-Ci",
        "outputId": "9fafccd9-7d7c-4dc6-c07c-19803f84d856"
      },
      "outputs": [
        {
          "output_type": "display_data",
          "data": {
            "text/plain": [
              "<Figure size 864x288 with 1 Axes>"
            ],
            "image/png": "[encoded data removed]"
          },
          "metadata": {}
        }
      ],
      "source": [
        "#Generate random colors for chart bar\n",
        "random_colors = []\n",
        "for i in range(len(df_coeff.values[0])):\n",
        "  random_colors.append(fake.hex_color())\n",
        "\n",
        "#Bar plot the coefficient weights\n",
        "plt.bar(np.arange(len(df_coeff.values[0])),df_coeff.values[0], color=random_colors)\n",
        "plt.xticks(np.arange(len(df_coeff.values[0])), list(df_coeff.columns), rotation=90);"
      ]
    },
    {
      "cell_type": "code",
      "execution_count": 38,
      "metadata": {
        "colab": {
          "base_uri": "https://localhost:8080/"
        },
        "id": "-wKZ2sljAKhn",
        "outputId": "7a574f95-a4e7-4ccb-de30-db4783d78a14"
      },
      "outputs": [
        {
          "output_type": "execute_result",
          "data": {
            "text/plain": [
              "0.8693067293968145"
            ]
          },
          "metadata": {},
          "execution_count": 38
        }
      ],
      "source": [
        "#Print the R2 Coefficient of Determination to compare with the less\n",
        "#complex model\n",
        "lasso.score(df_train_poly,y_train)"
      ]
    },
    {
      "cell_type": "code",
      "execution_count": 39,
      "metadata": {
        "colab": {
          "base_uri": "https://localhost:8080/"
        },
        "id": "gxFwIUS-BhuW",
        "outputId": "90e74bd1-d72c-4482-9096-d9055e9be118"
      },
      "outputs": [
        {
          "output_type": "execute_result",
          "data": {
            "text/plain": [
              "1.1410014083893574"
            ]
          },
          "metadata": {},
          "execution_count": 39
        }
      ],
      "source": [
        "#Mean square error for the train data\n",
        "mean_squared_error(y_train,lasso.predict(df_train_poly))"
      ]
    },
    {
      "cell_type": "code",
      "execution_count": 40,
      "metadata": {
        "id": "1ZSkIbCtRUqp"
      },
      "outputs": [],
      "source": [
        "#Clean with a function any suspect value in the test set to prevent data leakage\n",
        "for i in df_test.columns:\n",
        "  df_test[i].replace([\"\\t?\"],np.nan, inplace=True)\n",
        "\n",
        "#transform the data with the Pipeline\n",
        "df_test = pd.DataFrame(preprocessor.transform(df_test))\n",
        "poly_test = poly.transform(df_test)"
      ]
    },
    {
      "cell_type": "code",
      "execution_count": 41,
      "metadata": {
        "colab": {
          "base_uri": "https://localhost:8080/"
        },
        "id": "B-ORc9o2Ambw",
        "outputId": "909e0bce-5be0-4dd5-cf6c-06b6d98df536"
      },
      "outputs": [
        {
          "output_type": "execute_result",
          "data": {
            "text/plain": [
              "0.8233854196615744"
            ]
          },
          "metadata": {},
          "execution_count": 41
        }
      ],
      "source": [
        "#R2 Coefficient of determination score for test set\n",
        "lasso.score(poly_test, y_test)"
      ]
    },
    {
      "cell_type": "code",
      "execution_count": 42,
      "metadata": {
        "colab": {
          "base_uri": "https://localhost:8080/"
        },
        "id": "W_q7pomDH-jT",
        "outputId": "cbb6f281-4cdd-4fa8-9187-6c4ac88126b6"
      },
      "outputs": [
        {
          "output_type": "execute_result",
          "data": {
            "text/plain": [
              "1.3276652028007223"
            ]
          },
          "metadata": {},
          "execution_count": 42
        }
      ],
      "source": [
        "#MSE score for test data\n",
        "mean_squared_error(y_test,lasso.predict(poly_test))"
      ]
    },
    {
      "cell_type": "code",
      "execution_count": 43,
      "metadata": {
        "colab": {
          "base_uri": "https://localhost:8080/"
        },
        "id": "fA4XdbsyAhik",
        "outputId": "1434fb32-5ea7-48ad-dbd3-9972174c8411"
      },
      "outputs": [
        {
          "output_type": "execute_result",
          "data": {
            "text/plain": [
              "0.19"
            ]
          },
          "metadata": {},
          "execution_count": 43
        }
      ],
      "source": [
        "#Difference of MSE from train and test data\n",
        "np.round(mean_squared_error(y_test,lasso.predict(poly_test))-mean_squared_error(y_train,lasso.predict(df_train_poly)),2)"
      ]
    },
    {
      "cell_type": "code",
      "execution_count": 44,
      "metadata": {
        "id": "TEzAx-BPg5qR"
      },
      "outputs": [],
      "source": [
        "#Save the model parameters\n",
        "pickle.dump(lasso,open(\"lasso.sav\",'wb'))\n",
        "pickle.dump(preprocessor,open(\"preprocessor.sav\",'wb'))\n",
        "pickle.dump(poly,open(\"poly.sav\",'wb'))"
      ]
    }
  ],
  "metadata": {
    "colab": {
      "collapsed_sections": [],
      "name": "LR_KidneyData.ipynb",
      "provenance": [],
      "authorship_tag": "ABX9TyNn7UwzCoUDuspoYr23zcN5",
      "include_colab_link": true
    },
    "kernelspec": {
      "display_name": "Python 3",
      "name": "python3"
    },
    "language_info": {
      "name": "python"
    }
  },
  "nbformat": 4,
  "nbformat_minor": 0
}